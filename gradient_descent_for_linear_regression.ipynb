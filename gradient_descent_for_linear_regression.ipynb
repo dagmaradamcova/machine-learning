{
 "cells": [
  {
   "cell_type": "markdown",
   "metadata": {},
   "source": [
    "# GRADIENT DESCENT FOR LINEAR REGRESSION\n",
    "\n",
    "This notebook contains my implementation of linear regression with gradient descent in Python 3. "
   ]
  },
  {
   "cell_type": "code",
   "execution_count": 1,
   "metadata": {},
   "outputs": [],
   "source": [
    "import numpy as np\n",
    "import pandas as pd\n",
    "from matplotlib import pyplot as plt"
   ]
  },
  {
   "cell_type": "markdown",
   "metadata": {},
   "source": [
    "## PART I - FROM FORMULAS TO CODE\n",
    "\n",
    "### Linear regression function.\n",
    "\n",
    "Here's the standard univariate linear regression function:\n",
    "\n",
    "$$ h_\\theta(x) = \\theta_0 + \\theta_1 x_1 $$\n",
    "\n",
    "Where $\\theta_0$ represents the intercept and $\\theta_1$ denotes the slope of the line we're trying to fit to the data. These are the model's parameters (often also called weights).\n",
    "\n",
    "To simplify computation a little, let us multiply $\\theta_0$ by a constant, $x_0$, where $ x_0=1 $. Our equation then becomes:\n",
    "\n",
    "$$ h_\\theta(x) = \\theta_0 x_0 + \\theta_1 x_1 $$\n",
    "\n",
    "Since $x_0$ is always equal to 1 our original linear regression function remains unchanged. But, we can now represent it as the sum of all $\\theta_i$ multiplied by $x_i$:\n",
    "\n",
    "\n",
    "\n",
    "$$ h_\\theta(x) = \\sum \\theta_i x_i $$\n",
    "\n",
    "\n",
    "This is the equation we'll use to generate predictions."
   ]
  },
  {
   "cell_type": "code",
   "execution_count": 2,
   "metadata": {},
   "outputs": [],
   "source": [
    "# FAKE SOME DUMMY DATA\n",
    "\n",
    "dummy_data = np.array([[1, 1],\n",
    "                       [1, 2], \n",
    "                       [1, 3],\n",
    "                       [1, 4]])\n",
    "\n",
    "dummy_y = np.array([1,\n",
    "                    2,\n",
    "                    3,\n",
    "                    4])"
   ]
  },
  {
   "cell_type": "code",
   "execution_count": 3,
   "metadata": {},
   "outputs": [
    {
     "data": {
      "image/png": "[encoded data removed]",
      "text/plain": [
       "<Figure size 432x288 with 1 Axes>"
      ]
     },
     "metadata": {
      "needs_background": "light"
     },
     "output_type": "display_data"
    }
   ],
   "source": [
    "# SCATTER PLOT\n",
    "\n",
    "plt.scatter(dummy_data[:,1], dummy_y)\n",
    "plt.xlabel('X')\n",
    "plt.ylabel('y')\n",
    "plt.show()"
   ]
  },
  {
   "cell_type": "code",
   "execution_count": 4,
   "metadata": {},
   "outputs": [
    {
     "name": "stdout",
     "output_type": "stream",
     "text": [
      "Weights:  [1. 1.]\n"
     ]
    }
   ],
   "source": [
    "dummy_weights = np.ones(len(dummy_data[0])) # Initialize weights\n",
    "print(\"Weights: \", dummy_weights)"
   ]
  },
  {
   "cell_type": "code",
   "execution_count": 5,
   "metadata": {},
   "outputs": [
    {
     "name": "stdout",
     "output_type": "stream",
     "text": [
      "Predicted outputs:  [2. 3. 4. 5.]\n"
     ]
    }
   ],
   "source": [
    "dummy_y_hat = np.sum(dummy_weights * dummy_data, axis=1) # Generate predictions \n",
    "print(\"Predicted outputs: \", dummy_y_hat)"
   ]
  },
  {
   "cell_type": "markdown",
   "metadata": {},
   "source": [
    "### Loss function.\n",
    "\n",
    "To evaluate the fit of our regression function, we'll use mean squared error (MSE):\n",
    "\n",
    "$$ J(\\theta_i) = \\frac{1}{m} \\sum (h_\\theta(x) - y)^2 $$\n",
    "\n",
    "Where $m$ is the number of training examples in our dataset, and $y$ represents actual outputs. Hence, we are simply computing the difference (also called the error) between our predicted outputs and the actual outputs. Then squaring the errors, adding them up, and calculating their average.\n",
    "\n",
    "Here, we'll use MSE with a slight modification:\n",
    "\n",
    "\n",
    "\n",
    "$$ J(\\theta_i) = \\frac{1}{2m} \\sum (h_\\theta(x) - y)^2 $$\n"
   ]
  },
  {
   "cell_type": "code",
   "execution_count": 6,
   "metadata": {},
   "outputs": [
    {
     "name": "stdout",
     "output_type": "stream",
     "text": [
      "Mean squared error:  0.5\n"
     ]
    }
   ],
   "source": [
    "# LOSS\n",
    "\n",
    "dummy_sq_errors = (dummy_y_hat - dummy_y) ** 2\n",
    "dummy_loss = 1/(2*len(dummy_data)) * sum(dummy_sq_errors)\n",
    "print(\"Mean squared error: \", dummy_loss)"
   ]
  },
  {
   "cell_type": "markdown",
   "metadata": {},
   "source": [
    "### Gradient descent.\n",
    "\n",
    "Next we'll need a way to update the models parameters $\\theta_i$ during each iteration such that we minimize the loss. To do this we'll use gradient descent:\n",
    "\n",
    "$$ \\theta_i := \\theta_i - \\eta \\frac{\\partial}{\\partial \\theta_i} J (\\theta_i) $$\n",
    "\n",
    "Where $:=$ denotes assignment (e.g. $a := b$ means replace a with b), $\\eta$ represents learning rate, and $\\frac{\\partial}{\\partial \\theta_i} J (\\theta_i)$ is the partial derivative of our loss function."
   ]
  },
  {
   "cell_type": "markdown",
   "metadata": {},
   "source": [
    "### Gradient descent derivation.\n",
    "\n",
    "If we substitute $ J(\\theta_i) $ with its right-hand side, we can rewrite its partial derivative as:\n",
    "\n",
    "$$ \\frac{\\partial}{\\partial \\theta_i} J (\\theta_i) = \\frac{\\partial}{\\partial \\theta_i} \\left[ \\frac{1}{2m} \\sum (h_\\theta(x) - y)^2 \\right] $$"
   ]
  },
  {
   "cell_type": "markdown",
   "metadata": {},
   "source": [
    "The next steps are as follows:\n",
    "\n",
    "$$ = \\frac{1}{2m} \\sum \\frac{\\partial}{\\partial \\theta_i} (h_\\theta(x) - y)^2 $$\n",
    "\n",
    "$$ = \\frac{1}{2m} \\sum 2(h_\\theta(x) - y) \\frac{\\partial}{\\partial \\theta_i} (h_\\theta(x) - y) $$\n",
    "\n",
    "$$ = \\frac{1}{2m} 2 \\sum (h_\\theta(x) - y) \\left[ \\frac{\\partial}{\\partial \\theta_i} h_\\theta(x) - \\frac{\\partial}{\\partial \\theta_i} y \\right] $$\n",
    "\n",
    "$$ = \\frac{1}{m} \\sum (h_\\theta(x) - y) \\left[ \\frac{\\partial}{\\partial \\theta_i} h_\\theta(x) - 0 \\right] $$"
   ]
  },
  {
   "cell_type": "markdown",
   "metadata": {},
   "source": [
    "Now let's solve $\\frac{\\partial}{\\partial \\theta_i} h_\\theta(x)$ for $\\theta_1$ by substituting $h_\\theta(x)$ with its right-hand side:\n",
    "\n",
    "$$ \\frac{\\partial}{\\partial \\theta_1} h_\\theta(x) = \\frac{\\partial}{\\partial \\theta_1} (\\theta_0 + \\theta_1 x_1) $$\n",
    "\n",
    "$$ = \\frac{\\partial}{\\partial \\theta_1} \\theta_0 + \\frac{\\partial}{\\partial \\theta_1} \\theta_1x_1 $$\n",
    "\n",
    "$$ = 0 + \\frac{\\partial \\theta_1}{\\partial \\theta_1} x_1 $$\n",
    "\n",
    "$$ = 1 \\times x_1 $$"
   ]
  },
  {
   "cell_type": "markdown",
   "metadata": {},
   "source": [
    "The solution for each of our parameters $\\theta_i$ is the same as for $\\theta_1$. Hence:\n",
    "\n",
    "$$ \\frac{\\partial}{\\partial \\theta_i} J (\\theta_i) = \\frac{1}{m} \\sum (h_\\theta(x) - y) x_i $$\n",
    "\n",
    "\n",
    "And putting all the pieces back into our gradient descent gives us the final formula we'll be implementing:"
   ]
  },
  {
   "cell_type": "markdown",
   "metadata": {},
   "source": [
    "    \n",
    "$$ \\theta_i := \\theta_i - \\eta \\frac{1}{m} \\sum (h_\\theta(x) - y) x_i $$\n"
   ]
  },
  {
   "cell_type": "code",
   "execution_count": 7,
   "metadata": {},
   "outputs": [
    {
     "name": "stdout",
     "output_type": "stream",
     "text": [
      "Updated weights:  [0.9  0.75]\n"
     ]
    }
   ],
   "source": [
    "# GRADIENT DESCENT\n",
    "\n",
    "dummy_eta = 0.1 # learning rate\n",
    "\n",
    "dummy_error = dummy_y_hat - dummy_y # calculate error\n",
    "dummy_weights = dummy_weights - dummy_eta * 1/len(dummy_data) * np.dot(dummy_error, dummy_data)\n",
    "print(\"Updated weights: \", dummy_weights)"
   ]
  },
  {
   "cell_type": "markdown",
   "metadata": {},
   "source": [
    "A few references for the derivation process:  \n",
    "https://math.stackexchange.com/questions/70728/partial-derivative-in-gradient-descent-for-two-variables  \n",
    "https://www.mathsisfun.com/calculus/derivatives-rules.html  \n",
    "https://study.com/academy/lesson/how-to-take-the-derivative-of-x-2-steps-tutorial.html  \n",
    "https://mccormickml.com/2014/03/04/gradient-descent-derivation/"
   ]
  },
  {
   "cell_type": "markdown",
   "metadata": {},
   "source": [
    "### A note on multivariate regression.\n",
    "\n",
    "For multivariate regression, the function takes the form of:\n",
    "\n",
    "$$ h_\\theta(x) = \\theta_0x_0 + \\theta_1x_1 + \\theta_2x_2 + ... +\\theta_nx_n $$\n",
    "\n",
    "Where $x_0$ is a constant always equal to 1. \n",
    "\n",
    "$$ x_0 = 1 $$\n",
    "\n",
    "Note this formula can also be represented as:\n",
    "\n",
    "$$ h_\\theta(x) = \\sum \\theta_i x_i $$\n",
    "\n",
    "Hence, our formulas for univariate and multivarite regression are identical.\n",
    "\n",
    "We could also represent the equation as theta transpose x, as we are transposing the $\\theta$ vector and multiplying it by the $x$ vector.\n",
    "\n",
    "$$ h_\\theta(x) = \\theta^\\intercal x $$"
   ]
  },
  {
   "cell_type": "markdown",
   "metadata": {},
   "source": [
    "## PART II - THE FUNCTION\n",
    "\n",
    "Next, we define the linear regression function and test it on dummy data."
   ]
  },
  {
   "cell_type": "code",
   "execution_count": 8,
   "metadata": {},
   "outputs": [],
   "source": [
    "def linear_regression(data, y, eta, epochs):\n",
    "    \n",
    "    epoch_count = 0\n",
    "    loss = []\n",
    "    \n",
    "    weights = np.zeros(len(data[0])) # Initialize weights with zeros\n",
    "    \n",
    "    while epochs > epoch_count: \n",
    "        \n",
    "        # GENERATE PREDICTIONS\n",
    "        y_hat = np.sum(weights * data, axis=1)\n",
    "        \n",
    "        # UPDATE WEIGHTS\n",
    "        errors = y_hat - y # Calculate errors\n",
    "        weights = weights - eta * 1/len(data) * np.dot(errors, data)\n",
    "        \n",
    "        # COMPUTE LOSS\n",
    "        squared_errors = (y_hat - y) ** 2\n",
    "        loss.append(1/(2*len(data)) * sum(squared_errors))\n",
    "        \n",
    "        # Update epoch count\n",
    "        epoch_count += 1\n",
    "    \n",
    "    return weights, loss, y_hat"
   ]
  },
  {
   "cell_type": "markdown",
   "metadata": {},
   "source": [
    "### Test on fake data."
   ]
  },
  {
   "cell_type": "code",
   "execution_count": 9,
   "metadata": {},
   "outputs": [
    {
     "name": "stdout",
     "output_type": "stream",
     "text": [
      "Weights:  [0.14588575 0.69752062]\n",
      "Loss:  [5.5, 3.409075, 2.113639710625, 1.3110486218651403, 0.8137982699668197, 0.505721232086613, 0.31484619703812355, 0.19658347252901495, 0.12330759739855124, 0.07790326837712769, 0.04976673099701093, 0.032328448757530805, 0.02151827740741306, 0.014814566521961947, 0.010655032151265576, 0.008071764063549605, 0.006465095160680757, 0.005463502694522646, 0.004836810325726523, 0.004442412620458996]\n",
      "Predictions:  [0.84118765 1.88520224 2.92921684 3.97323144 5.01724604]\n"
     ]
    }
   ],
   "source": [
    "# FAKE DATA\n",
    "\n",
    "fake_data = np.array([[1, 1.0],\n",
    "                      [1, 2.5], \n",
    "                      [1, 4.0],\n",
    "                      [1, 5.5],\n",
    "                      [1, 7.0]])\n",
    "\n",
    "fake_y = np.array([1, 2, 3, 4, 5])\n",
    "\n",
    "# SPECIFY PARAMETERS\n",
    "eta = 0.01\n",
    "epochs = 20\n",
    "\n",
    "# TRAIN THE MODEL\n",
    "model = linear_regression(fake_data, fake_y, eta, epochs)\n",
    "print(\"Weights: \", model[0])\n",
    "print(\"Loss: \", model[1])\n",
    "print(\"Predictions: \", model[2])"
   ]
  },
  {
   "cell_type": "code",
   "execution_count": 10,
   "metadata": {},
   "outputs": [
    {
     "data": {
      "image/png": "[encoded data removed]",
      "text/plain": [
       "<Figure size 432x288 with 1 Axes>"
      ]
     },
     "metadata": {
      "needs_background": "light"
     },
     "output_type": "display_data"
    }
   ],
   "source": [
    "# PLOT LOSS\n",
    "\n",
    "plt.plot(model[1])\n",
    "plt.xlabel('epoch')\n",
    "plt.ylabel('loss')\n",
    "plt.show()"
   ]
  },
  {
   "cell_type": "markdown",
   "metadata": {},
   "source": [
    "The loss is decreasing with each epoch. Great, gradient descent is working as intended!"
   ]
  },
  {
   "cell_type": "code",
   "execution_count": 11,
   "metadata": {},
   "outputs": [
    {
     "data": {
      "image/png": "[encoded data removed]",
      "text/plain": [
       "<Figure size 432x288 with 1 Axes>"
      ]
     },
     "metadata": {
      "needs_background": "light"
     },
     "output_type": "display_data"
    }
   ],
   "source": [
    "# PLOT DATA WITH REGRESSION LINE\n",
    "\n",
    "plt.scatter(fake_data[:,1], fake_y, label=\"data\")\n",
    "plt.plot(fake_data[:,1], model[2], label=\"predicted\")\n",
    "plt.xlabel('X')\n",
    "plt.ylabel('y')\n",
    "plt.legend()\n",
    "plt.show()"
   ]
  },
  {
   "cell_type": "markdown",
   "metadata": {},
   "source": [
    "## PART III - REAL WORLD DATA\n",
    "\n",
    "Let us now test the implementation on a real-world dataset."
   ]
  },
  {
   "cell_type": "markdown",
   "metadata": {},
   "source": [
    "### The dataset.\n",
    "\n",
    "This is the House Prices dataset from Kaggle. Download at https://www.kaggle.com/c/house-prices-advanced-regression-techniques/data"
   ]
  },
  {
   "cell_type": "code",
   "execution_count": 12,
   "metadata": {},
   "outputs": [],
   "source": [
    "# LOAD TRAINING DATA\n",
    "\n",
    "df = pd.read_csv('data/train.csv')"
   ]
  },
  {
   "cell_type": "code",
   "execution_count": 13,
   "metadata": {},
   "outputs": [
    {
     "name": "stdout",
     "output_type": "stream",
     "text": [
      "(1460, 81)\n"
     ]
    },
    {
     "data": {
      "text/html": [
       "<div>\n",
       "<style scoped>\n",
       "    .dataframe tbody tr th:only-of-type {\n",
       "        vertical-align: middle;\n",
       "    }\n",
       "\n",
       "    .dataframe tbody tr th {\n",
       "        vertical-align: top;\n",
       "    }\n",
       "\n",
       "    .dataframe thead th {\n",
       "        text-align: right;\n",
       "    }\n",
       "</style>\n",
       "<table border=\"1\" class=\"dataframe\">\n",
       "  <thead>\n",
       "    <tr style=\"text-align: right;\">\n",
       "      <th></th>\n",
       "      <th>Id</th>\n",
       "      <th>MSSubClass</th>\n",
       "      <th>MSZoning</th>\n",
       "      <th>LotFrontage</th>\n",
       "      <th>LotArea</th>\n",
       "      <th>Street</th>\n",
       "      <th>Alley</th>\n",
       "      <th>LotShape</th>\n",
       "      <th>LandContour</th>\n",
       "      <th>Utilities</th>\n",
       "      <th>...</th>\n",
       "      <th>PoolArea</th>\n",
       "      <th>PoolQC</th>\n",
       "      <th>Fence</th>\n",
       "      <th>MiscFeature</th>\n",
       "      <th>MiscVal</th>\n",
       "      <th>MoSold</th>\n",
       "      <th>YrSold</th>\n",
       "      <th>SaleType</th>\n",
       "      <th>SaleCondition</th>\n",
       "      <th>SalePrice</th>\n",
       "    </tr>\n",
       "  </thead>\n",
       "  <tbody>\n",
       "    <tr>\n",
       "      <td>0</td>\n",
       "      <td>1</td>\n",
       "      <td>60</td>\n",
       "      <td>RL</td>\n",
       "      <td>65.0</td>\n",
       "      <td>8450</td>\n",
       "      <td>Pave</td>\n",
       "      <td>NaN</td>\n",
       "      <td>Reg</td>\n",
       "      <td>Lvl</td>\n",
       "      <td>AllPub</td>\n",
       "      <td>...</td>\n",
       "      <td>0</td>\n",
       "      <td>NaN</td>\n",
       "      <td>NaN</td>\n",
       "      <td>NaN</td>\n",
       "      <td>0</td>\n",
       "      <td>2</td>\n",
       "      <td>2008</td>\n",
       "      <td>WD</td>\n",
       "      <td>Normal</td>\n",
       "      <td>208500</td>\n",
       "    </tr>\n",
       "    <tr>\n",
       "      <td>1</td>\n",
       "      <td>2</td>\n",
       "      <td>20</td>\n",
       "      <td>RL</td>\n",
       "      <td>80.0</td>\n",
       "      <td>9600</td>\n",
       "      <td>Pave</td>\n",
       "      <td>NaN</td>\n",
       "      <td>Reg</td>\n",
       "      <td>Lvl</td>\n",
       "      <td>AllPub</td>\n",
       "      <td>...</td>\n",
       "      <td>0</td>\n",
       "      <td>NaN</td>\n",
       "      <td>NaN</td>\n",
       "      <td>NaN</td>\n",
       "      <td>0</td>\n",
       "      <td>5</td>\n",
       "      <td>2007</td>\n",
       "      <td>WD</td>\n",
       "      <td>Normal</td>\n",
       "      <td>181500</td>\n",
       "    </tr>\n",
       "    <tr>\n",
       "      <td>2</td>\n",
       "      <td>3</td>\n",
       "      <td>60</td>\n",
       "      <td>RL</td>\n",
       "      <td>68.0</td>\n",
       "      <td>11250</td>\n",
       "      <td>Pave</td>\n",
       "      <td>NaN</td>\n",
       "      <td>IR1</td>\n",
       "      <td>Lvl</td>\n",
       "      <td>AllPub</td>\n",
       "      <td>...</td>\n",
       "      <td>0</td>\n",
       "      <td>NaN</td>\n",
       "      <td>NaN</td>\n",
       "      <td>NaN</td>\n",
       "      <td>0</td>\n",
       "      <td>9</td>\n",
       "      <td>2008</td>\n",
       "      <td>WD</td>\n",
       "      <td>Normal</td>\n",
       "      <td>223500</td>\n",
       "    </tr>\n",
       "    <tr>\n",
       "      <td>3</td>\n",
       "      <td>4</td>\n",
       "      <td>70</td>\n",
       "      <td>RL</td>\n",
       "      <td>60.0</td>\n",
       "      <td>9550</td>\n",
       "      <td>Pave</td>\n",
       "      <td>NaN</td>\n",
       "      <td>IR1</td>\n",
       "      <td>Lvl</td>\n",
       "      <td>AllPub</td>\n",
       "      <td>...</td>\n",
       "      <td>0</td>\n",
       "      <td>NaN</td>\n",
       "      <td>NaN</td>\n",
       "      <td>NaN</td>\n",
       "      <td>0</td>\n",
       "      <td>2</td>\n",
       "      <td>2006</td>\n",
       "      <td>WD</td>\n",
       "      <td>Abnorml</td>\n",
       "      <td>140000</td>\n",
       "    </tr>\n",
       "    <tr>\n",
       "      <td>4</td>\n",
       "      <td>5</td>\n",
       "      <td>60</td>\n",
       "      <td>RL</td>\n",
       "      <td>84.0</td>\n",
       "      <td>14260</td>\n",
       "      <td>Pave</td>\n",
       "      <td>NaN</td>\n",
       "      <td>IR1</td>\n",
       "      <td>Lvl</td>\n",
       "      <td>AllPub</td>\n",
       "      <td>...</td>\n",
       "      <td>0</td>\n",
       "      <td>NaN</td>\n",
       "      <td>NaN</td>\n",
       "      <td>NaN</td>\n",
       "      <td>0</td>\n",
       "      <td>12</td>\n",
       "      <td>2008</td>\n",
       "      <td>WD</td>\n",
       "      <td>Normal</td>\n",
       "      <td>250000</td>\n",
       "    </tr>\n",
       "  </tbody>\n",
       "</table>\n",
       "<p>5 rows × 81 columns</p>\n",
       "</div>"
      ],
      "text/plain": [
       "   Id  MSSubClass MSZoning  LotFrontage  LotArea Street Alley LotShape  \\\n",
       "0   1          60       RL         65.0     8450   Pave   NaN      Reg   \n",
       "1   2          20       RL         80.0     9600   Pave   NaN      Reg   \n",
       "2   3          60       RL         68.0    11250   Pave   NaN      IR1   \n",
       "3   4          70       RL         60.0     9550   Pave   NaN      IR1   \n",
       "4   5          60       RL         84.0    14260   Pave   NaN      IR1   \n",
       "\n",
       "  LandContour Utilities  ... PoolArea PoolQC Fence MiscFeature MiscVal MoSold  \\\n",
       "0         Lvl    AllPub  ...        0    NaN   NaN         NaN       0      2   \n",
       "1         Lvl    AllPub  ...        0    NaN   NaN         NaN       0      5   \n",
       "2         Lvl    AllPub  ...        0    NaN   NaN         NaN       0      9   \n",
       "3         Lvl    AllPub  ...        0    NaN   NaN         NaN       0      2   \n",
       "4         Lvl    AllPub  ...        0    NaN   NaN         NaN       0     12   \n",
       "\n",
       "  YrSold  SaleType  SaleCondition  SalePrice  \n",
       "0   2008        WD         Normal     208500  \n",
       "1   2007        WD         Normal     181500  \n",
       "2   2008        WD         Normal     223500  \n",
       "3   2006        WD        Abnorml     140000  \n",
       "4   2008        WD         Normal     250000  \n",
       "\n",
       "[5 rows x 81 columns]"
      ]
     },
     "execution_count": 13,
     "metadata": {},
     "output_type": "execute_result"
    }
   ],
   "source": [
    "print(df.shape)\n",
    "df.head()\n",
    "\n",
    "# 1stFlrSF - 1st floor square footage\n",
    "# 2ndFlrSF - 2nd floor square footage\n",
    "# SalePrice - is what we will be predicting"
   ]
  },
  {
   "cell_type": "code",
   "execution_count": 14,
   "metadata": {},
   "outputs": [
    {
     "data": {
      "text/plain": [
       "count      1460.000000\n",
       "mean     180921.195890\n",
       "std       79442.502883\n",
       "min       34900.000000\n",
       "25%      129975.000000\n",
       "50%      163000.000000\n",
       "75%      214000.000000\n",
       "max      755000.000000\n",
       "Name: SalePrice, dtype: float64"
      ]
     },
     "execution_count": 14,
     "metadata": {},
     "output_type": "execute_result"
    }
   ],
   "source": [
    "# OUTPUT VARIABLE\n",
    "\n",
    "df['SalePrice'].describe()"
   ]
  },
  {
   "cell_type": "code",
   "execution_count": 15,
   "metadata": {},
   "outputs": [],
   "source": [
    "df['CombinedSF'] = df['1stFlrSF'] + df['2ndFlrSF'] # Combine sq footage for 1st + 2nd floor"
   ]
  },
  {
   "cell_type": "code",
   "execution_count": 16,
   "metadata": {},
   "outputs": [
    {
     "data": {
      "text/plain": [
       "count    1460.000000\n",
       "mean     1509.619178\n",
       "std       521.163523\n",
       "min       334.000000\n",
       "25%      1123.750000\n",
       "50%      1458.000000\n",
       "75%      1775.250000\n",
       "max      5642.000000\n",
       "Name: CombinedSF, dtype: float64"
      ]
     },
     "execution_count": 16,
     "metadata": {},
     "output_type": "execute_result"
    }
   ],
   "source": [
    "df['CombinedSF'].describe()"
   ]
  },
  {
   "cell_type": "code",
   "execution_count": 17,
   "metadata": {
    "scrolled": true
   },
   "outputs": [
    {
     "data": {
      "text/plain": [
       "<matplotlib.axes._subplots.AxesSubplot at 0x11894f610>"
      ]
     },
     "execution_count": 17,
     "metadata": {},
     "output_type": "execute_result"
    },
    {
     "data": {
      "image/png": "[encoded data removed]",
      "text/plain": [
       "<Figure size 432x288 with 1 Axes>"
      ]
     },
     "metadata": {
      "needs_background": "light"
     },
     "output_type": "display_data"
    }
   ],
   "source": [
    "ax = df.plot.scatter(y='SalePrice', x='CombinedSF')\n",
    "ax"
   ]
  },
  {
   "cell_type": "markdown",
   "metadata": {},
   "source": [
    "We'll try to predict the sale price of a house given its combined 1st and 2nd floor square footage. "
   ]
  },
  {
   "cell_type": "markdown",
   "metadata": {},
   "source": [
    "### Prep the data.\n",
    "\n",
    "To prepare the data we'll add the constant term $x_0=1$, scale the predictor variable to help gradient descent converge, and split the data into a training set and a testing set."
   ]
  },
  {
   "cell_type": "code",
   "execution_count": 18,
   "metadata": {},
   "outputs": [],
   "source": [
    "from sklearn.model_selection import train_test_split\n",
    "from sklearn import preprocessing"
   ]
  },
  {
   "cell_type": "code",
   "execution_count": 19,
   "metadata": {},
   "outputs": [],
   "source": [
    "# TRAIN TEST SPLIT\n",
    "\n",
    "X = pd.DataFrame(np.ones(len(df))) # add the constant\n",
    "X[1] = df['CombinedSF']            # add predictor variable\n",
    "X[1] = preprocessing.scale(X[[1]]) # feature scaling \n",
    "y = df['SalePrice']\n",
    "\n",
    "X_train, X_test, y_train, y_test = train_test_split(X.values, y.values, test_size=0.3)"
   ]
  },
  {
   "cell_type": "code",
   "execution_count": 20,
   "metadata": {},
   "outputs": [
    {
     "data": {
      "image/png": "[encoded data removed]",
      "text/plain": [
       "<Figure size 432x288 with 1 Axes>"
      ]
     },
     "metadata": {
      "needs_background": "light"
     },
     "output_type": "display_data"
    }
   ],
   "source": [
    "plt.scatter(X_train[:,1], y_train, label=\"training data\")\n",
    "plt.xlabel('X')\n",
    "plt.ylabel('y')\n",
    "plt.legend()\n",
    "plt.show()"
   ]
  },
  {
   "cell_type": "markdown",
   "metadata": {},
   "source": [
    "### Train the model."
   ]
  },
  {
   "cell_type": "code",
   "execution_count": 21,
   "metadata": {},
   "outputs": [
    {
     "name": "stdout",
     "output_type": "stream",
     "text": [
      "Weights:  [180825.9018246   57084.96377539]\n",
      "Loss:  1480582715.574328\n"
     ]
    }
   ],
   "source": [
    "# SPECIFY PARAMETERS\n",
    "eta = 0.1\n",
    "epochs = 50\n",
    "\n",
    "# TRAIN THE MODEL\n",
    "model_train = linear_regression(X_train, y_train, eta, epochs)\n",
    "print(\"Weights: \", model_train[0])\n",
    "print(\"Loss: \", model_train[1][-1]) # print only the most recent Mean squared error"
   ]
  },
  {
   "cell_type": "code",
   "execution_count": 22,
   "metadata": {},
   "outputs": [
    {
     "data": {
      "image/png": "[encoded data removed]",
      "text/plain": [
       "<Figure size 432x288 with 1 Axes>"
      ]
     },
     "metadata": {
      "needs_background": "light"
     },
     "output_type": "display_data"
    }
   ],
   "source": [
    "# PLOT LOSS\n",
    "\n",
    "plt.plot(model_train[1])\n",
    "plt.show()"
   ]
  },
  {
   "cell_type": "code",
   "execution_count": 23,
   "metadata": {},
   "outputs": [
    {
     "data": {
      "image/png": "[encoded data removed]",
      "text/plain": [
       "<Figure size 432x288 with 1 Axes>"
      ]
     },
     "metadata": {
      "needs_background": "light"
     },
     "output_type": "display_data"
    }
   ],
   "source": [
    "# PLOT DATA WITH REGRESSION LINE\n",
    "\n",
    "plt.scatter(X_train[:,1], y_train, label=\"training data\")\n",
    "plt.plot(X_train[:,1], model_train[2], 'c', label=\"predicted\")\n",
    "plt.xlabel('sq feet scaled')\n",
    "plt.ylabel('sale price')\n",
    "plt.legend()\n",
    "plt.show()"
   ]
  },
  {
   "cell_type": "markdown",
   "metadata": {},
   "source": [
    "### Test set."
   ]
  },
  {
   "cell_type": "code",
   "execution_count": 24,
   "metadata": {},
   "outputs": [],
   "source": [
    "# DEFINE THE MODEL PREDICT FUNCTION\n",
    "\n",
    "def lin_reg_predict(data, trained_weights):\n",
    "    y_hat = np.sum(trained_weights * data, axis=1)  # generate predictions\n",
    "    return y_hat"
   ]
  },
  {
   "cell_type": "code",
   "execution_count": 25,
   "metadata": {},
   "outputs": [],
   "source": [
    "# PREDICT ON TEST DATA\n",
    "\n",
    "trained_weights = model_train[0] # extract weights from the trained model\n",
    "y_pred = lin_reg_predict(X_test, trained_weights) # generate predictions on the test set"
   ]
  },
  {
   "cell_type": "code",
   "execution_count": 26,
   "metadata": {},
   "outputs": [
    {
     "name": "stdout",
     "output_type": "stream",
     "text": [
      "Mean squared error:  3309899086.8331637\n"
     ]
    }
   ],
   "source": [
    "# PRINT MEAN SQUARED ERROR\n",
    "\n",
    "def mse(y_pred, y):\n",
    "    squared_errors = (y_pred - y) ** 2\n",
    "    mse = 1/(len(y)) * sum(squared_errors)\n",
    "    return mse\n",
    "\n",
    "print(\"Mean squared error: \", mse(y_pred, y_test))"
   ]
  },
  {
   "cell_type": "code",
   "execution_count": 27,
   "metadata": {},
   "outputs": [
    {
     "data": {
      "image/png": "[encoded data removed]",
      "text/plain": [
       "<Figure size 432x288 with 1 Axes>"
      ]
     },
     "metadata": {
      "needs_background": "light"
     },
     "output_type": "display_data"
    }
   ],
   "source": [
    "# PLOT TEST DATA WITH REGRESSION LINE\n",
    "\n",
    "plt.scatter(X_test[:,1], y_test, label=\"test data\")\n",
    "plt.plot(X_test[:,1], y_pred, 'c', label=\"predicted\")\n",
    "plt.xlabel('sq feet scaled')\n",
    "plt.ylabel('sale price')\n",
    "plt.legend()\n",
    "plt.show()"
   ]
  },
  {
   "cell_type": "markdown",
   "metadata": {},
   "source": [
    "### Verify with sk-learn.\n",
    "\n",
    "Finally we compare our implementation to sk-learn's linear regression."
   ]
  },
  {
   "cell_type": "code",
   "execution_count": 28,
   "metadata": {},
   "outputs": [],
   "source": [
    "from sklearn import linear_model"
   ]
  },
  {
   "cell_type": "code",
   "execution_count": 29,
   "metadata": {},
   "outputs": [],
   "source": [
    "skreg = linear_model.LinearRegression(fit_intercept=False)\n",
    "\n",
    "skreg.fit(X_train, y_train) # train the model\n",
    "sk_y_pred = skreg.predict(X_test) # predict on test data"
   ]
  },
  {
   "cell_type": "code",
   "execution_count": 30,
   "metadata": {},
   "outputs": [
    {
     "name": "stdout",
     "output_type": "stream",
     "text": [
      "Weights:  [181759.5653891   57379.73036062]\n",
      "Mean squared error:  3315041027.9512286\n"
     ]
    }
   ],
   "source": [
    "from sklearn.metrics import mean_squared_error\n",
    "print('Weights: ', skreg.coef_)\n",
    "print('Mean squared error: ', mean_squared_error(y_test, sk_y_pred))"
   ]
  },
  {
   "cell_type": "code",
   "execution_count": 31,
   "metadata": {
    "scrolled": false
   },
   "outputs": [
    {
     "data": {
      "image/png": "[encoded data removed]",
      "text/plain": [
       "<Figure size 432x288 with 1 Axes>"
      ]
     },
     "metadata": {
      "needs_background": "light"
     },
     "output_type": "display_data"
    }
   ],
   "source": [
    "# PLOT DATA WITH REGRESSION LINE\n",
    "\n",
    "plt.scatter(X_test[:,1], y_test, label=\"test data\")\n",
    "plt.plot(X_test[:,1], sk_y_pred, 'c', label=\"predicted\")\n",
    "plt.xlabel('sq feet scaled')\n",
    "plt.ylabel('sale price')\n",
    "plt.legend()\n",
    "plt.show()"
   ]
  },
  {
   "cell_type": "code",
   "execution_count": 32,
   "metadata": {},
   "outputs": [
    {
     "name": "stdout",
     "output_type": "stream",
     "text": [
      "OUR Mean squared error:  3309899086.8331637\n",
      "SKL Mean squared error:  3315041027.9512286\n"
     ]
    }
   ],
   "source": [
    "# COMPARE LOSS\n",
    "\n",
    "print(\"OUR Mean squared error: \", mse(y_pred, y_test)) # our linear regression function\n",
    "print('SKL Mean squared error: ', mean_squared_error(y_test, sk_y_pred)) # sk-learn"
   ]
  },
  {
   "cell_type": "markdown",
   "metadata": {},
   "source": [
    "They're nearly identical, although our algorithm seems to be performing slightly better than sk-learn's."
   ]
  },
  {
   "cell_type": "code",
   "execution_count": 33,
   "metadata": {},
   "outputs": [
    {
     "name": "stdout",
     "output_type": "stream",
     "text": [
      "OUR Weights:  [180825.9018246   57084.96377539]\n",
      "SKL Weights:  [181759.5653891   57379.73036062]\n"
     ]
    }
   ],
   "source": [
    "# COMPARE WEIGHTS\n",
    "\n",
    "print(\"OUR Weights: \", model_train[0]) # our linear regression function\n",
    "print('SKL Weights: ', skreg.coef_) # sk-learn"
   ]
  }
 ],
 "metadata": {
  "kernelspec": {
   "display_name": "Python [conda env:london]",
   "language": "python",
   "name": "conda-env-london-py"
  },
  "language_info": {
   "codemirror_mode": {
    "name": "ipython",
    "version": 3
   },
   "file_extension": ".py",
   "mimetype": "text/x-python",
   "name": "python",
   "nbconvert_exporter": "python",
   "pygments_lexer": "ipython3",
   "version": "3.7.4"
  }
 },
 "nbformat": 4,
 "nbformat_minor": 4
}
